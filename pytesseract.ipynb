{
 "cells": [
  {
   "cell_type": "code",
   "execution_count": 4,
   "metadata": {},
   "outputs": [
    {
     "name": "stdout",
     "output_type": "stream",
     "text": [
      "PGCE aad\n",
      "\n",
      "YOU ARE THE\n",
      "DESIGNER OF YOUR\n",
      "OWN DESTINY '\n",
      "\f",
      "\n"
     ]
    }
   ],
   "source": [
    "import pytesseract as tess\n",
    "from PIL import Image\n",
    "tess.pytesseract.tesseract_cmd=r'C:\\Users\\ritesh gupta\\AppData\\Local\\Programs\\Tesseract-OCR\\tesseract.exe'  #define tesseract path\n",
    "\n",
    "img=Image.open(r'C:\\Users\\ritesh gupta\\Downloads\\right.jpg')\n",
    "text=tess.image_to_string(img)\n",
    "print(text)"
   ]
  },
  {
   "cell_type": "code",
   "execution_count": null,
   "metadata": {},
   "outputs": [],
   "source": []
  }
 ],
 "metadata": {
  "kernelspec": {
   "display_name": "Python 3",
   "language": "python",
   "name": "python3"
  },
  "language_info": {
   "codemirror_mode": {
    "name": "ipython",
    "version": 3
   },
   "file_extension": ".py",
   "mimetype": "text/x-python",
   "name": "python",
   "nbconvert_exporter": "python",
   "pygments_lexer": "ipython3",
   "version": "3.8.1"
  }
 },
 "nbformat": 4,
 "nbformat_minor": 4
}
